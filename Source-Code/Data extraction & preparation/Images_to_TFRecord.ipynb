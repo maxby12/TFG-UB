{
  "nbformat": 4,
  "nbformat_minor": 0,
  "metadata": {
    "colab": {
      "name": "Images_to_TFRecord.ipynb",
      "version": "0.3.2",
      "provenance": [],
      "collapsed_sections": [],
      "toc_visible": true
    },
    "kernelspec": {
      "name": "python3",
      "display_name": "Python 3"
    },
    "accelerator": "GPU"
  },
  "cells": [
    {
      "cell_type": "code",
      "metadata": {
        "id": "bQ4HGFr-elci",
        "colab_type": "code",
        "colab": {}
      },
      "source": [
        "import tensorflow as tf\n",
        "import os\n",
        "import matplotlib.image as mpimg\n",
        "import shutil\n",
        "import random\n",
        "import numpy as np\n",
        "from skimage import io\n",
        "from matplotlib import pyplot as plt\n",
        "from google.colab import files\n",
        "plt.rcParams[\"axes.grid\"] = False\n",
        "\n",
        "# Features when reading Examples\n",
        "features = {\n",
        "    'rows': tf.FixedLenFeature([], tf.int64),\n",
        "    'cols': tf.FixedLenFeature([], tf.int64),\n",
        "    'channels': tf.FixedLenFeature([], tf.int64),\n",
        "    'image': tf.FixedLenFeature([], tf.string),\n",
        "    'label': tf.FixedLenFeature([], tf.int64)\n",
        "}"
      ],
      "execution_count": 0,
      "outputs": []
    },
    {
      "cell_type": "code",
      "metadata": {
        "id": "Fa5yTY4nfOLC",
        "colab_type": "code",
        "colab": {}
      },
      "source": [
        "# optional if folder with images already in the machine\n",
        "# otherwise upload the zip files containing all the images in a folder\n",
        "uploaded = files.upload()\n",
        "for fn in uploaded.keys():\n",
        "  !unzip $fn"
      ],
      "execution_count": 0,
      "outputs": []
    },
    {
      "cell_type": "markdown",
      "metadata": {
        "id": "IVVEHtu6OtaV",
        "colab_type": "text"
      },
      "source": [
        "# GENERATION AND EXTRACTION CLASSES"
      ]
    },
    {
      "cell_type": "code",
      "metadata": {
        "id": "5DBJgdDBdNKt",
        "colab_type": "code",
        "colab": {}
      },
      "source": [
        "def get_label_with_filename(filename):\n",
        "    name = filename.split('/')[-1]\n",
        "    label = name.split('_')\n",
        "    label = label[1].split('.')\n",
        "    return int(label[0])\n",
        "\n",
        "def triplet_preparation(img_paths, block_size=10):\n",
        "    img_paths.sort(key=lambda x: get_label_with_filename(x))\n",
        "    \n",
        "    blocks = [img_paths[i:i+block_size] for i in range(0, len(img_paths), block_size)]\n",
        "    random.shuffle(blocks)\n",
        "    \n",
        "    return [b for bs in blocks for b in bs]"
      ],
      "execution_count": 0,
      "outputs": []
    },
    {
      "cell_type": "code",
      "metadata": {
        "id": "62dYl8NWgrMp",
        "colab_type": "code",
        "colab": {}
      },
      "source": [
        "# CLASS TO GENERATE A TFRECORD FROM ALL THE IMAGES IN A FOLDER\n",
        "class GenerateTFRecord:\n",
        "\n",
        "    def convert_image_folder(self, img_folder, tfrecord_file_name, block_size=10):\n",
        "        # Get all file names of images present in folder\n",
        "        img_paths = os.listdir(img_folder)\n",
        "        img_paths = [os.path.abspath(os.path.join(img_folder, i)) for i in img_paths]\n",
        "        \n",
        "        # If block_size = 0 then just sort, otherwise shuffle by blocks\n",
        "        if block_size > 0: img_paths = triplet_preparation(img_paths, block_size)\n",
        "        else: img_paths.sort(key=lambda x: get_label_with_filename(x))\n",
        "        print(\"Image paths:\", img_paths)\n",
        "\n",
        "        with tf.python_io.TFRecordWriter(tfrecord_file_name) as writer:\n",
        "            for img_path in img_paths:\n",
        "                example = self._convert_image(img_path)\n",
        "                writer.write(example.SerializeToString())\n",
        "                \n",
        "    def _convert_image(self, img_path):\n",
        "        label = get_label_with_filename(img_path)\n",
        "        img_shape = mpimg.imread(img_path).shape\n",
        "        \n",
        "#         filename = os.path.basename(img_path)\n",
        "\n",
        "        # Read image data in terms of bytes\n",
        "        with tf.gfile.GFile(img_path, 'rb') as fid:\n",
        "            image_data = fid.read()\n",
        "            \n",
        "        # If image has more than 1 channels wirte the number of channels\n",
        "        # otherwise write a 1 in the channels feature\n",
        "        channels = img_shape[2] if len(img_shape)==3 else 1\n",
        "        \n",
        "        example = tf.train.Example(features = tf.train.Features(feature = {\n",
        "#             'filename': tf.train.Feature(bytes_list = tf.train.BytesList(value = [filename.encode('utf-8')])),\n",
        "            'rows': tf.train.Feature(int64_list = tf.train.Int64List(value = [img_shape[0]])),\n",
        "            'cols': tf.train.Feature(int64_list = tf.train.Int64List(value = [img_shape[1]])),\n",
        "            'channels': tf.train.Feature(int64_list = tf.train.Int64List(value = [channels])),\n",
        "            'image': tf.train.Feature(bytes_list = tf.train.BytesList(value = [image_data])),\n",
        "            'label': tf.train.Feature(int64_list = tf.train.Int64List(value = [label])),\n",
        "        }))\n",
        "        return example"
      ],
      "execution_count": 0,
      "outputs": []
    },
    {
      "cell_type": "code",
      "metadata": {
        "id": "OSBzvQQaj4KU",
        "colab_type": "code",
        "colab": {}
      },
      "source": [
        "# CLASS TO EXTRACT IMAGES FROM A TFRECORD AND RETURN IN A DATASET\n",
        "class TFRecordExtractor:\n",
        "    def __init__(self, tfrecord_file):\n",
        "        self.tfrecord_file = os.path.abspath(tfrecord_file)\n",
        "\n",
        "    def _extract_fn(self, tfrecord):\n",
        "        # Extract the data record\n",
        "        sample = tf.parse_single_example(tfrecord, features)\n",
        "\n",
        "        # cast image [0, 255] to [0.0, 1.0]\n",
        "        image = tf.image.decode_image(sample['image'], dtype=tf.uint8)\n",
        "        image = tf.cast(image, tf.float32)\n",
        "        image = image / 255\n",
        "        \n",
        "        print(image.dtype)\n",
        "        img_shape = tf.stack([sample['rows'], sample['cols'], sample['channels']])\n",
        "        label = sample['label']\n",
        "        label = tf.cast(label, tf.int64)\n",
        "        #filename = sample['filename']\n",
        "        \n",
        "        return image, label\n",
        "\n",
        "    def extract_image(self):\n",
        "\n",
        "        # Pipeline of dataset\n",
        "        dataset = tf.data.TFRecordDataset([self.tfrecord_file])\n",
        "        dataset = dataset.map(self._extract_fn)\n",
        "        \n",
        "        return dataset"
      ],
      "execution_count": 0,
      "outputs": []
    },
    {
      "cell_type": "markdown",
      "metadata": {
        "id": "_Ai8GPqRO69M",
        "colab_type": "text"
      },
      "source": [
        "# TFRECORD GENERATION AND TESTING"
      ]
    },
    {
      "cell_type": "code",
      "metadata": {
        "id": "05Qsl6TYO5Op",
        "colab_type": "code",
        "colab": {}
      },
      "source": [
        "%%time\n",
        "# GENERATE THE TFRecord for train and test sets\n",
        "t = GenerateTFRecord()\n",
        "\n",
        "train_name = 'ColonDB_Train'\n",
        "test_name = 'ColonDB_Test'\n",
        "\n",
        "train_block_size = 0\n",
        "test_block_size = 0\n",
        "\n",
        "!rm $train_name'.tfrecord'\n",
        "!rm $test_name'.tfrecord'\n",
        "\n",
        "t.convert_image_folder(train_name, train_name+'.tfrecord', block_size=train_block_size)\n",
        "t.convert_image_folder(test_name, test_name+'.tfrecord', block_size=test_block_size)"
      ],
      "execution_count": 0,
      "outputs": []
    },
    {
      "cell_type": "code",
      "metadata": {
        "id": "Plx2AHYKiDAN",
        "colab_type": "code",
        "colab": {}
      },
      "source": [
        "# TEST THE READING AND PARSING OF A TFRECORD INTO A DATASET\n",
        "t = TFRecordExtractor(train_name+'.tfrecord')\n",
        "dataset = t.extract_image()\n",
        "\n",
        "iterator = dataset.make_initializable_iterator()\n",
        "el = iterator.get_next()\n",
        "# print(el)\n",
        "\n",
        "with tf.Session() as sess:\n",
        "    sess.run(iterator.initializer)\n",
        "    sample = sess.run(el)\n",
        "    img = sample[0]\n",
        "    label = sample[1]\n",
        "    \n",
        "    print(img.shape, label)\n",
        "    img = np.reshape(img, newshape= (img.shape[0], img.shape[1], img.shape[2]) )\n",
        "    print(img)\n",
        "    \n",
        "    f, axarr = plt.subplots(ncols=1, nrows=1, figsize=(20, 5))\n",
        "    axarr.imshow(img)\n",
        "    axarr.set_title('Example image')\n",
        "    plt.show()"
      ],
      "execution_count": 0,
      "outputs": []
    },
    {
      "cell_type": "code",
      "metadata": {
        "id": "ykJjYxCvTeht",
        "colab_type": "code",
        "colab": {}
      },
      "source": [
        "t = TFRecordExtractor(train_name+'.tfrecord')\n",
        "dataset = t.extract_image()\n",
        "\n",
        "iterator = dataset.make_initializable_iterator()\n",
        "el = iterator.get_next()\n",
        "# print(el)\n",
        "\n",
        "count = 0\n",
        "with tf.Session() as sess:\n",
        "    sess.run(iterator.initializer)\n",
        "    while True:\n",
        "        try:\n",
        "            sample = sess.run(el)\n",
        "            img = sample[0]\n",
        "            label = sample[1]\n",
        "            print(label)\n",
        "            count += 1\n",
        "        except tf.errors.OutOfRangeError:\n",
        "            break\n",
        "print(\"Total number of images:\", count)"
      ],
      "execution_count": 0,
      "outputs": []
    },
    {
      "cell_type": "code",
      "metadata": {
        "id": "Vq0zpMzHkwir",
        "colab_type": "code",
        "colab": {}
      },
      "source": [
        "%%time\n",
        "# GENERATE THE TFRecord for TESTING\n",
        "t = GenerateTFRecord()\n",
        "\n",
        "testing = 'F1_train_TEST'\n",
        "\n",
        "t.convert_image_folder(train_name, testing+'.tfrecord', block_size=10)\n"
      ],
      "execution_count": 0,
      "outputs": []
    },
    {
      "cell_type": "code",
      "metadata": {
        "id": "7EpC6srvXGEp",
        "colab_type": "code",
        "colab": {}
      },
      "source": [
        "t = TFRecordExtractor(testing+'.tfrecord')\n",
        "dataset = t.extract_image()\n",
        "\n",
        "iterator = dataset.make_initializable_iterator()\n",
        "el = iterator.get_next()\n",
        "# print(el)\n",
        "\n",
        "count = 0\n",
        "with tf.Session() as sess:\n",
        "    sess.run(iterator.initializer)\n",
        "    while True:\n",
        "        try:\n",
        "            sample = sess.run(el)\n",
        "            img = sample[0]\n",
        "            label = sample[1]\n",
        "            print(label)\n",
        "            count += 1\n",
        "        except tf.errors.OutOfRangeError:\n",
        "            break\n",
        "print(\"Total number of images:\", count)"
      ],
      "execution_count": 0,
      "outputs": []
    },
    {
      "cell_type": "code",
      "metadata": {
        "id": "Pi752bs8eUsC",
        "colab_type": "code",
        "colab": {}
      },
      "source": [
        ""
      ],
      "execution_count": 0,
      "outputs": []
    }
  ]
}