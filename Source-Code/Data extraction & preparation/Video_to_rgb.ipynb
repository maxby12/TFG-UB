{
  "nbformat": 4,
  "nbformat_minor": 0,
  "metadata": {
    "colab": {
      "name": "Video_to_rgb.ipynb",
      "version": "0.3.2",
      "provenance": [],
      "collapsed_sections": [],
      "toc_visible": true
    },
    "kernelspec": {
      "name": "python3",
      "display_name": "Python 3"
    },
    "accelerator": "GPU"
  },
  "cells": [
    {
      "cell_type": "code",
      "metadata": {
        "id": "hIpU3Qb7tC0c",
        "colab_type": "code",
        "colab": {}
      },
      "source": [
        "# IMPORTS\n",
        "import imageio\n",
        "import os\n",
        "import numpy as np\n",
        "import tensorflow as tf\n",
        "import tensorflow.contrib.eager as tfe\n",
        "\n",
        "from skimage import io, img_as_float, img_as_uint\n",
        "from skimage.color import rgb2gray\n",
        "from skimage.transform import resize, rescale\n",
        "from matplotlib import pyplot as plt\n",
        "from google.colab import files"
      ],
      "execution_count": 0,
      "outputs": []
    },
    {
      "cell_type": "code",
      "metadata": {
        "id": "FIvQpKx5-DoW",
        "colab_type": "code",
        "colab": {}
      },
      "source": [
        "# VIDEO PARAMS\n",
        "horizontal_slice = 285\n",
        "output_size = 256\n",
        "offset_frames = 10000"
      ],
      "execution_count": 0,
      "outputs": []
    },
    {
      "cell_type": "code",
      "metadata": {
        "id": "PI9Tb6t5qdeh",
        "colab_type": "code",
        "colab": {}
      },
      "source": [
        "!rm -r F1_test_256_rgb\n",
        "!rm -r F1_train_256_rgb\n",
        "!rm *.zip\n",
        "!rm *.tfrecord"
      ],
      "execution_count": 0,
      "outputs": []
    },
    {
      "cell_type": "markdown",
      "metadata": {
        "id": "SCQSmyK-n3Lh",
        "colab_type": "text"
      },
      "source": [
        "# COMMON METHODS"
      ]
    },
    {
      "cell_type": "code",
      "metadata": {
        "id": "jEeTCPte8JI_",
        "colab_type": "code",
        "colab": {}
      },
      "source": [
        "# FUNCTION TO GENERATE ALL THE RGB FRAMES FROM A VIDEO\n",
        "def generate_all_frames(video):\n",
        "    count = -1\n",
        "    total_frames = video.get_length()\n",
        "    original_shape = video.get_data(0).shape\n",
        "    scale = output_size / horizontal_slice\n",
        "    \n",
        "    for img in video:\n",
        "        count += 1\n",
        "        if count >= total_frames: break\n",
        "        \n",
        "        f = img_as_float(img[:horizontal_slice, :])\n",
        "        f = resize(f,(horizontal_slice, horizontal_slice, 3), mode='reflect')\n",
        "        f = rescale(f, scale=scale, mode='reflect')\n",
        "        f = f - f.min()\n",
        "        yield f/f.max()"
      ],
      "execution_count": 0,
      "outputs": []
    },
    {
      "cell_type": "code",
      "metadata": {
        "id": "qqYYWXsB-H0F",
        "colab_type": "code",
        "colab": {}
      },
      "source": [
        "# FUNCTION TO GENERATE ALL THE EXAMPLES (image, label) FOR EACH VIDEO\n",
        "def generate_all_examples(videos):\n",
        "    offset = 0\n",
        "    for video_file in videos:\n",
        "        video = imageio.get_reader(video_file, 'ffmpeg', mode='I')\n",
        "        for n,f in enumerate(generate_all_frames(video)):\n",
        "            yield f, n+offset\n",
        "        offset += offset_frames\n",
        "        print('Done generating all the frames of', video_file)\n",
        "        print('Next offset',offset)"
      ],
      "execution_count": 0,
      "outputs": []
    },
    {
      "cell_type": "markdown",
      "metadata": {
        "id": "EdkzOkTIoNJY",
        "colab_type": "text"
      },
      "source": [
        "# TRAIN IMAGES"
      ]
    },
    {
      "cell_type": "code",
      "metadata": {
        "id": "PFUMMk9EoF0Z",
        "colab_type": "code",
        "colab": {}
      },
      "source": [
        "%%time\n",
        "# UPLOAD ALL TRAINING VIDEOS\n",
        "uploaded = files.upload()\n",
        "for fn in uploaded.keys():\n",
        "    print('User uploaded file \"{name}\" with length {length} KB'.format(\n",
        "        name=fn, length=len(uploaded[fn])/1000 ))"
      ],
      "execution_count": 0,
      "outputs": []
    },
    {
      "cell_type": "code",
      "metadata": {
        "id": "oELy3SstoLpd",
        "colab_type": "code",
        "colab": {}
      },
      "source": [
        "train_videos = []\n",
        "for vid_name in uploaded.keys():\n",
        "    basePath = os.getcwd()\n",
        "    filename = basePath + '/' + vid_name\n",
        "    train_videos.append(filename)\n",
        "print(train_videos)"
      ],
      "execution_count": 0,
      "outputs": []
    },
    {
      "cell_type": "code",
      "metadata": {
        "id": "bGa5FK6DoRnq",
        "colab_type": "code",
        "colab": {}
      },
      "source": [
        "%%time\n",
        "# LOAD, PROCESS AND SAVE ALL THE TRAINING IMAGES\n",
        "train_dir = basePath + '/F1_train_'+str(output_size)+'_rgb'\n",
        "\n",
        "# MAKE DIR FOR THE TRAINING IMAGES IF IT DOES NOT EXIST\n",
        "if not os.path.exists(train_dir):\n",
        "    os.makedirs(train_dir)\n",
        "    \n",
        "# COMPUTE AND SAVE\n",
        "for img, label in generate_all_examples(train_videos):\n",
        "    filename = 'frame_'+str(label)+'.png'\n",
        "    io.imsave(train_dir+'/'+filename, img_as_uint(img))"
      ],
      "execution_count": 0,
      "outputs": []
    },
    {
      "cell_type": "code",
      "metadata": {
        "id": "4iR_FCrcoT_Z",
        "colab_type": "code",
        "colab": {}
      },
      "source": [
        "# ZIP THE TRAIN FOLDER AND DOWNLOAD (OPTIONAL)\n",
        "!zip -r $train_dir'.zip' $train_dir"
      ],
      "execution_count": 0,
      "outputs": []
    },
    {
      "cell_type": "markdown",
      "metadata": {
        "id": "RaeQLWTYnPKz",
        "colab_type": "text"
      },
      "source": [
        "# TEST IMAGES"
      ]
    },
    {
      "cell_type": "code",
      "metadata": {
        "id": "RcnPCNPtnNkR",
        "colab_type": "code",
        "colab": {}
      },
      "source": [
        "%%time\n",
        "# UPLOAD ALL TEST VIDEOS\n",
        "uploaded = files.upload()\n",
        "for fn in uploaded.keys():\n",
        "    print('User uploaded file \"{name}\" with length {length} KB'.format(\n",
        "        name=fn, length=len(uploaded[fn])/1000 ))"
      ],
      "execution_count": 0,
      "outputs": []
    },
    {
      "cell_type": "code",
      "metadata": {
        "id": "TCWV5kxcnVQ2",
        "colab_type": "code",
        "colab": {}
      },
      "source": [
        "test_videos = []\n",
        "for vid_name in uploaded.keys():\n",
        "    basePath = os.getcwd()\n",
        "    filename = basePath + '/' + vid_name\n",
        "    test_videos.append(filename)\n",
        "print(test_videos)"
      ],
      "execution_count": 0,
      "outputs": []
    },
    {
      "cell_type": "code",
      "metadata": {
        "id": "OfnyxUkZnVbm",
        "colab_type": "code",
        "colab": {}
      },
      "source": [
        "%%time\n",
        "# LOAD, PROCESS AND SAVE ALL THE TEST IMAGES\n",
        "test_dir = basePath + '/F1_test_'+str(output_size)+'_rgb'\n",
        "\n",
        "# MAKE DIR FOR THE TEST IMAGES IF IT DOES NOT EXIST\n",
        "if not os.path.exists(test_dir):\n",
        "    os.makedirs(test_dir)\n",
        "    \n",
        "# COMPUTE AND SAVE\n",
        "for img, label in generate_all_examples(test_videos):\n",
        "    filename = 'frame_'+str(label)+'.png'\n",
        "    io.imsave(test_dir+'/'+filename, img_as_uint(img))"
      ],
      "execution_count": 0,
      "outputs": []
    },
    {
      "cell_type": "code",
      "metadata": {
        "id": "7_8nU5XDnVeT",
        "colab_type": "code",
        "colab": {}
      },
      "source": [
        "# ZIP THE TEST FOLDER AND DOWNLOAD (OPTIONAL)\n",
        "!zip -r $test_dir'.zip' $test_dir"
      ],
      "execution_count": 0,
      "outputs": []
    }
  ]
}