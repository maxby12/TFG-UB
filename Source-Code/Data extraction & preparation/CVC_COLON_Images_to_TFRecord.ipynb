{
  "nbformat": 4,
  "nbformat_minor": 0,
  "metadata": {
    "colab": {
      "name": "CVC_COLON_Images_to_TFRecord.ipynb",
      "version": "0.3.2",
      "provenance": [],
      "collapsed_sections": [],
      "toc_visible": true
    },
    "kernelspec": {
      "name": "python3",
      "display_name": "Python 3"
    },
    "accelerator": "GPU"
  },
  "cells": [
    {
      "cell_type": "code",
      "metadata": {
        "id": "bQ4HGFr-elci",
        "colab_type": "code",
        "colab": {}
      },
      "source": [
        "import tensorflow as tf\n",
        "import os\n",
        "import matplotlib.image as mpimg\n",
        "import shutil\n",
        "import random\n",
        "import numpy as np\n",
        "from skimage import io, img_as_float, img_as_uint, img_as_ubyte\n",
        "from skimage.transform import resize\n",
        "from matplotlib import pyplot as plt\n",
        "from google.colab import files\n",
        "plt.rcParams[\"axes.grid\"] = False\n",
        "\n",
        "io.use_plugin('imageio')\n",
        "\n",
        "# Features when reading Examples\n",
        "features = {\n",
        "    'rows': tf.FixedLenFeature([], tf.int64),\n",
        "    'cols': tf.FixedLenFeature([], tf.int64),\n",
        "    'channels': tf.FixedLenFeature([], tf.int64),\n",
        "    'image': tf.FixedLenFeature([], tf.string),\n",
        "    'label': tf.FixedLenFeature([], tf.int64)\n",
        "}\n",
        "\n",
        "!rm -r sample_data\n",
        "!rm -r ColonDB_Train\n",
        "!rm -r ColonDB_Test"
      ],
      "execution_count": 0,
      "outputs": []
    },
    {
      "cell_type": "code",
      "metadata": {
        "id": "Fa5yTY4nfOLC",
        "colab_type": "code",
        "colab": {}
      },
      "source": [
        "uploaded = files.upload()\n",
        "for fn in uploaded.keys():\n",
        "  !unzip $fn"
      ],
      "execution_count": 0,
      "outputs": []
    },
    {
      "cell_type": "code",
      "metadata": {
        "id": "g6tt8gedMriN",
        "colab_type": "code",
        "colab": {}
      },
      "source": [
        "images = io.imread_collection('./CVC-ColonDB/*.tiff')\n",
        "train_dir = './ColonDB_Train'\n",
        "test_dir = './ColonDB_Test'\n",
        "\n",
        "if not os.path.exists(train_dir):\n",
        "    os.makedirs(train_dir)\n",
        "if not os.path.exists(test_dir):\n",
        "    os.makedirs(test_dir)\n",
        "\n",
        "offset = 0\n",
        "count = 1\n",
        "for image, filename in zip(images, images.files):\n",
        "    image = img_as_float(image)\n",
        "    image = image-image.min()\n",
        "    image = image/image.max()\n",
        "    \n",
        "    num = int(filename.split('/')[2].split('.')[0])\n",
        "    frame_num = count + offset\n",
        "    #resize and save image here\n",
        "    image = resize(image,(256, 256, 3), mode='reflect')\n",
        "    image = img_as_ubyte(image)\n",
        "    newFileName = 'frame_'+str(frame_num)+'.png'\n",
        "    if num<=208 or num>263: io.imsave(train_dir+'/'+newFileName, image)\n",
        "    else: io.imsave(test_dir+'/'+newFileName, image)\n",
        "    \n",
        "    count += 1\n",
        "    if num in [38,60,76,97,148,155,203,208,263,273,300,320,340,360,380]:\n",
        "        count = 1\n",
        "        offset += 1000"
      ],
      "execution_count": 0,
      "outputs": []
    },
    {
      "cell_type": "code",
      "metadata": {
        "id": "qzdyCc1gbmFV",
        "colab_type": "code",
        "colab": {}
      },
      "source": [
        "image = io.imread(train_dir+'/frame_2002.png')\n",
        "print(image.shape, image.dtype, image.max(), image.min())\n",
        "plt.imshow(image)\n",
        "plt.show()"
      ],
      "execution_count": 0,
      "outputs": []
    },
    {
      "cell_type": "code",
      "metadata": {
        "id": "sJ-3-8F6gEg0",
        "colab_type": "code",
        "colab": {}
      },
      "source": [
        ""
      ],
      "execution_count": 0,
      "outputs": []
    }
  ]
}